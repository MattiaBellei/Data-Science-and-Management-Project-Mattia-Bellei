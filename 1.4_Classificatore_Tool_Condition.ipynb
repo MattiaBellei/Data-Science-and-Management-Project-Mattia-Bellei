{
  "nbformat": 4,
  "nbformat_minor": 0,
  "metadata": {
    "colab": {
      "provenance": []
    },
    "kernelspec": {
      "name": "python3",
      "display_name": "Python 3"
    },
    "language_info": {
      "name": "python"
    }
  },
  "cells": [
    {
      "cell_type": "code",
      "execution_count": 1,
      "metadata": {
        "id": "MXFqs74IuXqP"
      },
      "outputs": [],
      "source": [
        "# import delle librerie\n",
        "import pandas as pd\n",
        "from sklearn.preprocessing import MinMaxScaler\n",
        "from sklearn.model_selection import train_test_split\n",
        "from sklearn.metrics import confusion_matrix, classification_report\n",
        "from sklearn.linear_model import LogisticRegression\n",
        "from sklearn.ensemble import RandomForestClassifier\n",
        "from sklearn.ensemble import GradientBoostingClassifier"
      ]
    },
    {
      "cell_type": "code",
      "source": [
        "# carico i dati\n",
        "Joined_data = pd.read_csv('drive/MyDrive/Tesina/Joined_Table.csv')"
      ],
      "metadata": {
        "id": "LCbQWCpmQNZ7"
      },
      "execution_count": 2,
      "outputs": []
    },
    {
      "cell_type": "code",
      "source": [
        "# trovo le colonne con correlazione sufficientemente alta (superiore a 0.4 o inferiore a -0.4) rispetto a tool_condition\n",
        "cormat = Joined_data.corr()\n",
        "\n",
        "print('Feature correlate a tool_condition:')\n",
        "for feature,valore in cormat.iterrows():\n",
        "  if not feature in ['tool_condition', 'machining_finalized', 'passed_visual_inspection']:\n",
        "      output = ''\n",
        "      if valore['tool_condition'] > 0.4 or valore['tool_condition'] < -0.4 :\n",
        "        output = f'{feature}'\n",
        "      if output:\n",
        "        print(output)"
      ],
      "metadata": {
        "colab": {
          "base_uri": "https://localhost:8080/"
        },
        "id": "hHhmvHpzKURP",
        "outputId": "5bfcdc5a-1034-46c0-97df-7dac3dc47b6e"
      },
      "execution_count": 3,
      "outputs": [
        {
          "output_type": "stream",
          "name": "stdout",
          "text": [
            "Feature correlate a tool_condition:\n"
          ]
        }
      ]
    },
    {
      "cell_type": "code",
      "source": [
        "# creo classificatore: Regressione Logistica per tool_condition\n",
        "\n",
        "X = Joined_data[['feedrate', 'clamp_pressure']]\n",
        "y = Joined_data['tool_condition']\n",
        "\n",
        "X_train, X_test, y_train, y_test = train_test_split(X, y, test_size=0.2)\n",
        "scaler = MinMaxScaler()\n",
        "X_train = scaler.fit_transform(X_train)\n",
        "X_test = scaler.transform(X_test)\n",
        "\n",
        "lr = LogisticRegression(class_weight='balanced')\n",
        "lr.fit(X_train, y_train)\n",
        "y_pred = lr.predict(X_test)\n",
        "print(confusion_matrix(y_test, y_pred))\n",
        "print('\\n')\n",
        "print(classification_report(y_test, y_pred))\n",
        "print('\\n')"
      ],
      "metadata": {
        "colab": {
          "base_uri": "https://localhost:8080/"
        },
        "id": "RuYbnmpQQlHW",
        "outputId": "8d86d73f-f0ae-4a69-eeac-8b5f7bd0990b"
      },
      "execution_count": 4,
      "outputs": [
        {
          "output_type": "stream",
          "name": "stdout",
          "text": [
            "[[1177  478]\n",
            " [1185  731]]\n",
            "\n",
            "\n",
            "              precision    recall  f1-score   support\n",
            "\n",
            "           0       0.50      0.71      0.59      1655\n",
            "           1       0.60      0.38      0.47      1916\n",
            "\n",
            "    accuracy                           0.53      3571\n",
            "   macro avg       0.55      0.55      0.53      3571\n",
            "weighted avg       0.56      0.53      0.52      3571\n",
            "\n",
            "\n",
            "\n"
          ]
        }
      ]
    },
    {
      "cell_type": "code",
      "source": [
        "# creo classificatore: Random Forest per tool_condition\n",
        "\n",
        "X_trainval, X_test, y_trainval, y_test = train_test_split(X, y, test_size=0.2)\n",
        "X_train, X_val, y_train, y_val = train_test_split(X_trainval, y_trainval, test_size=0.2)\n",
        "\n",
        "rf = RandomForestClassifier()\n",
        "rf.fit(X_trainval, y_trainval)\n",
        "y_pred = rf.predict(X_test)\n",
        "print(classification_report(y_test, y_pred))"
      ],
      "metadata": {
        "colab": {
          "base_uri": "https://localhost:8080/"
        },
        "id": "nFJ5CL0Bvp3j",
        "outputId": "5847d626-439c-4afe-b562-cb83ab937cbd"
      },
      "execution_count": 12,
      "outputs": [
        {
          "output_type": "stream",
          "name": "stdout",
          "text": [
            "              precision    recall  f1-score   support\n",
            "\n",
            "           0       0.51      0.36      0.42      1689\n",
            "           1       0.54      0.68      0.60      1882\n",
            "\n",
            "    accuracy                           0.53      3571\n",
            "   macro avg       0.52      0.52      0.51      3571\n",
            "weighted avg       0.53      0.53      0.52      3571\n",
            "\n"
          ]
        }
      ]
    },
    {
      "cell_type": "code",
      "source": [
        "# creo classificatore: Gradient Boosting per tool_condition\n",
        "\n",
        "gb = GradientBoostingClassifier()\n",
        "gb.fit(X_trainval, y_trainval)\n",
        "y_pred = gb.predict(X_test)\n",
        "print(classification_report(y_test, y_pred))"
      ],
      "metadata": {
        "colab": {
          "base_uri": "https://localhost:8080/"
        },
        "id": "y421bv-CzYRO",
        "outputId": "9865171d-0caa-4e75-8f28-cf226ce00aba"
      },
      "execution_count": 13,
      "outputs": [
        {
          "output_type": "stream",
          "name": "stdout",
          "text": [
            "              precision    recall  f1-score   support\n",
            "\n",
            "           0       0.51      0.13      0.21      1689\n",
            "           1       0.53      0.89      0.67      1882\n",
            "\n",
            "    accuracy                           0.53      3571\n",
            "   macro avg       0.52      0.51      0.44      3571\n",
            "weighted avg       0.52      0.53      0.45      3571\n",
            "\n"
          ]
        }
      ]
    }
  ]
}