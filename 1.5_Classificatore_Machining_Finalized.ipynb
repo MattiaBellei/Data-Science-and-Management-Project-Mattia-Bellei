{
  "nbformat": 4,
  "nbformat_minor": 0,
  "metadata": {
    "colab": {
      "provenance": []
    },
    "kernelspec": {
      "name": "python3",
      "display_name": "Python 3"
    },
    "language_info": {
      "name": "python"
    }
  },
  "cells": [
    {
      "cell_type": "code",
      "execution_count": 1,
      "metadata": {
        "id": "MXFqs74IuXqP"
      },
      "outputs": [],
      "source": [
        "# import delle librerie\n",
        "import pandas as pd\n",
        "from sklearn.preprocessing import MinMaxScaler\n",
        "from sklearn.model_selection import train_test_split\n",
        "from sklearn.metrics import confusion_matrix, classification_report\n",
        "from sklearn.linear_model import LogisticRegression\n",
        "from sklearn.ensemble import RandomForestClassifier\n",
        "from sklearn.ensemble import GradientBoostingClassifier"
      ]
    },
    {
      "cell_type": "code",
      "source": [
        "# lettura del dataframe\n",
        "Joined_data = pd.read_csv('drive/MyDrive/Tesina/Joined_Table.csv')"
      ],
      "metadata": {
        "id": "WhvYDORyulIK"
      },
      "execution_count": 3,
      "outputs": []
    },
    {
      "cell_type": "code",
      "source": [
        "# trovo le colonne con correlazione sufficientemente alta (superiore a 0.4 o inferiore a -0.4) rispetto a machining_finalized\n",
        "cormat = Joined_data.corr()\n",
        "\n",
        "print('Feature correlate a machining_finalized:')\n",
        "for feature,valore in cormat.iterrows():\n",
        "  if not feature in ['tool_condition', 'machining_finalized', 'passed_visual_inspection']:\n",
        "      output = ''\n",
        "      if valore['machining_finalized'] > 0.4 or valore['machining_finalized'] < -0.4 :\n",
        "        output = f'{feature}'\n",
        "      if output:\n",
        "        print(output)"
      ],
      "metadata": {
        "colab": {
          "base_uri": "https://localhost:8080/"
        },
        "id": "IGP6EhpbJ2mD",
        "outputId": "8a1c6fb0-a408-4331-e35e-064c17378625"
      },
      "execution_count": 4,
      "outputs": [
        {
          "output_type": "stream",
          "name": "stdout",
          "text": [
            "Feature correlate a machining_finalized:\n",
            "m1_current_feedrate\n",
            "feedrate\n"
          ]
        }
      ]
    },
    {
      "cell_type": "code",
      "source": [
        "# creo classificatore: Regressione Logistica per machining_finalized\n",
        "\n",
        "X = Joined_data[['feedrate', 'clamp_pressure', 'm1_current_feedrate']]\n",
        "y = Joined_data['machining_finalized']\n",
        "\n",
        "X_train, X_test, y_train, y_test = train_test_split(X, y, test_size=0.2)\n",
        "scaler = MinMaxScaler()\n",
        "X_train = scaler.fit_transform(X_train)\n",
        "X_test = scaler.transform(X_test)\n",
        "\n",
        "lr = LogisticRegression(class_weight='balanced')\n",
        "lr.fit(X_train, y_train)\n",
        "y_pred = lr.predict(X_test)\n",
        "print(confusion_matrix(y_test, y_pred))\n",
        "print('\\n')\n",
        "print(classification_report(y_test, y_pred))\n",
        "print('\\n')"
      ],
      "metadata": {
        "colab": {
          "base_uri": "https://localhost:8080/"
        },
        "id": "JZ-boLaguslB",
        "outputId": "d0d3f580-5ad9-4579-dcae-40405614fc42"
      },
      "execution_count": 5,
      "outputs": [
        {
          "output_type": "stream",
          "name": "stdout",
          "text": [
            "[[ 111    0]\n",
            " [ 110 3350]]\n",
            "\n",
            "\n",
            "              precision    recall  f1-score   support\n",
            "\n",
            "           0       0.50      1.00      0.67       111\n",
            "           1       1.00      0.97      0.98      3460\n",
            "\n",
            "    accuracy                           0.97      3571\n",
            "   macro avg       0.75      0.98      0.83      3571\n",
            "weighted avg       0.98      0.97      0.97      3571\n",
            "\n",
            "\n",
            "\n"
          ]
        }
      ]
    },
    {
      "cell_type": "code",
      "source": [
        "# creo classificatore: Random Forest per machining_finalized\n",
        "\n",
        "X_trainval, X_test, y_trainval, y_test = train_test_split(X, y, test_size=0.2)\n",
        "X_train, X_val, y_train, y_val = train_test_split(X_trainval, y_trainval, test_size=0.2)\n",
        "\n",
        "rf = RandomForestClassifier()\n",
        "rf.fit(X_trainval, y_trainval)\n",
        "y_pred = rf.predict(X_test)\n",
        "print(classification_report(y_test, y_pred))"
      ],
      "metadata": {
        "colab": {
          "base_uri": "https://localhost:8080/"
        },
        "id": "nFJ5CL0Bvp3j",
        "outputId": "15c1c2b2-13b5-437c-b3a7-905c802e0758"
      },
      "execution_count": 13,
      "outputs": [
        {
          "output_type": "stream",
          "name": "stdout",
          "text": [
            "              precision    recall  f1-score   support\n",
            "\n",
            "           0       1.00      0.47      0.64       101\n",
            "           1       0.98      1.00      0.99      3470\n",
            "\n",
            "    accuracy                           0.98      3571\n",
            "   macro avg       0.99      0.73      0.81      3571\n",
            "weighted avg       0.99      0.98      0.98      3571\n",
            "\n"
          ]
        }
      ]
    },
    {
      "cell_type": "code",
      "source": [
        "# creo classificatore: Gradient Boosting per machining_finalized\n",
        "\n",
        "gb = GradientBoostingClassifier()\n",
        "gb.fit(X_trainval, y_trainval)\n",
        "y_pred = gb.predict(X_test)\n",
        "print(classification_report(y_test, y_pred))"
      ],
      "metadata": {
        "colab": {
          "base_uri": "https://localhost:8080/"
        },
        "id": "y421bv-CzYRO",
        "outputId": "fc536668-8139-4f30-b738-81a4a44cb8cc"
      },
      "execution_count": 12,
      "outputs": [
        {
          "output_type": "stream",
          "name": "stdout",
          "text": [
            "              precision    recall  f1-score   support\n",
            "\n",
            "           0       1.00      0.48      0.65        99\n",
            "           1       0.99      1.00      0.99      3472\n",
            "\n",
            "    accuracy                           0.99      3571\n",
            "   macro avg       0.99      0.74      0.82      3571\n",
            "weighted avg       0.99      0.99      0.98      3571\n",
            "\n"
          ]
        }
      ]
    }
  ]
}