{
  "nbformat": 4,
  "nbformat_minor": 0,
  "metadata": {
    "colab": {
      "provenance": []
    },
    "kernelspec": {
      "name": "python3",
      "display_name": "Python 3"
    },
    "language_info": {
      "name": "python"
    }
  },
  "cells": [
    {
      "cell_type": "code",
      "execution_count": 42,
      "metadata": {
        "id": "7ff47954-4688-42d4-ac60-901da03e11b4"
      },
      "outputs": [],
      "source": [
        "# import delle librerie\n",
        "\n",
        "import pandas as pd\n",
        "import matplotlib.pyplot as plt\n",
        "import seaborn as sns"
      ]
    },
    {
      "cell_type": "code",
      "execution_count": 43,
      "metadata": {
        "id": "3bbae7f8-2120-4e3a-884a-570c4dee5cf8"
      },
      "outputs": [],
      "source": [
        "# leggo il dataframe\n",
        "\n",
        "train_df = pd.read_csv(f'drive/MyDrive/Tesina/archive/train.csv')"
      ]
    },
    {
      "cell_type": "code",
      "execution_count": 44,
      "metadata": {
        "id": "798dbc87-1fe2-43ee-9b71-dd70a2511e51",
        "outputId": "30db40c7-296e-441c-d059-938ef18cd229",
        "colab": {
          "base_uri": "https://localhost:8080/"
        }
      },
      "outputs": [
        {
          "output_type": "stream",
          "name": "stdout",
          "text": [
            "    No material  feedrate  clamp_pressure tool_condition machining_finalized  \\\n",
            "0    1      wax         6             4.0         unworn                 yes   \n",
            "1    2      wax        20             4.0         unworn                 yes   \n",
            "2    3      wax         6             3.0         unworn                 yes   \n",
            "3    4      wax         6             2.5         unworn                  no   \n",
            "4    5      wax        20             3.0         unworn                  no   \n",
            "5    6      wax         6             4.0           worn                 yes   \n",
            "6    7      wax        20             4.0           worn                  no   \n",
            "7    8      wax        20             4.0           worn                 yes   \n",
            "8    9      wax        15             4.0           worn                 yes   \n",
            "9   10      wax        12             4.0           worn                 yes   \n",
            "10  11      wax         3             4.0         unworn                 yes   \n",
            "11  12      wax         3             3.0         unworn                 yes   \n",
            "12  13      wax         3             4.0           worn                 yes   \n",
            "13  14      wax         3             3.0           worn                 yes   \n",
            "14  15      wax         6             3.0           worn                 yes   \n",
            "15  16      wax        20             3.0           worn                  no   \n",
            "16  17      wax         3             2.5         unworn                 yes   \n",
            "17  18      wax         3             2.5           worn                 yes   \n",
            "\n",
            "   passed_visual_inspection  \n",
            "0                       yes  \n",
            "1                       yes  \n",
            "2                       yes  \n",
            "3                       NaN  \n",
            "4                       NaN  \n",
            "5                        no  \n",
            "6                       NaN  \n",
            "7                        no  \n",
            "8                        no  \n",
            "9                        no  \n",
            "10                      yes  \n",
            "11                      yes  \n",
            "12                      yes  \n",
            "13                      yes  \n",
            "14                      yes  \n",
            "15                      NaN  \n",
            "16                      yes  \n",
            "17                      yes  \n"
          ]
        }
      ],
      "source": [
        "# stampo il dataset\n",
        "\n",
        "print(train_df)"
      ]
    },
    {
      "cell_type": "code",
      "execution_count": 26,
      "metadata": {
        "id": "0a4d62c8-bcfa-4d0c-8637-7e979dfcff1d",
        "outputId": "be736faa-7d1d-4de6-9ecc-e914c1b40bf4",
        "colab": {
          "base_uri": "https://localhost:8080/",
          "height": 304
        }
      },
      "outputs": [
        {
          "output_type": "execute_result",
          "data": {
            "text/plain": [
              "No                            int64\n",
              "material                     object\n",
              "feedrate                      int64\n",
              "clamp_pressure              float64\n",
              "tool_condition               object\n",
              "machining_finalized          object\n",
              "passed_visual_inspection     object\n",
              "dtype: object"
            ],
            "text/html": [
              "<div>\n",
              "<style scoped>\n",
              "    .dataframe tbody tr th:only-of-type {\n",
              "        vertical-align: middle;\n",
              "    }\n",
              "\n",
              "    .dataframe tbody tr th {\n",
              "        vertical-align: top;\n",
              "    }\n",
              "\n",
              "    .dataframe thead th {\n",
              "        text-align: right;\n",
              "    }\n",
              "</style>\n",
              "<table border=\"1\" class=\"dataframe\">\n",
              "  <thead>\n",
              "    <tr style=\"text-align: right;\">\n",
              "      <th></th>\n",
              "      <th>0</th>\n",
              "    </tr>\n",
              "  </thead>\n",
              "  <tbody>\n",
              "    <tr>\n",
              "      <th>No</th>\n",
              "      <td>int64</td>\n",
              "    </tr>\n",
              "    <tr>\n",
              "      <th>material</th>\n",
              "      <td>object</td>\n",
              "    </tr>\n",
              "    <tr>\n",
              "      <th>feedrate</th>\n",
              "      <td>int64</td>\n",
              "    </tr>\n",
              "    <tr>\n",
              "      <th>clamp_pressure</th>\n",
              "      <td>float64</td>\n",
              "    </tr>\n",
              "    <tr>\n",
              "      <th>tool_condition</th>\n",
              "      <td>object</td>\n",
              "    </tr>\n",
              "    <tr>\n",
              "      <th>machining_finalized</th>\n",
              "      <td>object</td>\n",
              "    </tr>\n",
              "    <tr>\n",
              "      <th>passed_visual_inspection</th>\n",
              "      <td>object</td>\n",
              "    </tr>\n",
              "  </tbody>\n",
              "</table>\n",
              "</div><br><label><b>dtype:</b> object</label>"
            ]
          },
          "metadata": {},
          "execution_count": 26
        }
      ],
      "source": [
        "# analizzo i tipi di dato per colonna\n",
        "\n",
        "train_df.dtypes"
      ]
    },
    {
      "cell_type": "code",
      "execution_count": 27,
      "metadata": {
        "id": "f50d8351-629e-4d36-ab75-1552dce29eda",
        "outputId": "8b11775d-e374-4adb-8636-cb3e0dd76cec",
        "colab": {
          "base_uri": "https://localhost:8080/",
          "height": 304
        }
      },
      "outputs": [
        {
          "output_type": "execute_result",
          "data": {
            "text/plain": [
              "No                          0\n",
              "material                    0\n",
              "feedrate                    0\n",
              "clamp_pressure              0\n",
              "tool_condition              0\n",
              "machining_finalized         0\n",
              "passed_visual_inspection    4\n",
              "dtype: int64"
            ],
            "text/html": [
              "<div>\n",
              "<style scoped>\n",
              "    .dataframe tbody tr th:only-of-type {\n",
              "        vertical-align: middle;\n",
              "    }\n",
              "\n",
              "    .dataframe tbody tr th {\n",
              "        vertical-align: top;\n",
              "    }\n",
              "\n",
              "    .dataframe thead th {\n",
              "        text-align: right;\n",
              "    }\n",
              "</style>\n",
              "<table border=\"1\" class=\"dataframe\">\n",
              "  <thead>\n",
              "    <tr style=\"text-align: right;\">\n",
              "      <th></th>\n",
              "      <th>0</th>\n",
              "    </tr>\n",
              "  </thead>\n",
              "  <tbody>\n",
              "    <tr>\n",
              "      <th>No</th>\n",
              "      <td>0</td>\n",
              "    </tr>\n",
              "    <tr>\n",
              "      <th>material</th>\n",
              "      <td>0</td>\n",
              "    </tr>\n",
              "    <tr>\n",
              "      <th>feedrate</th>\n",
              "      <td>0</td>\n",
              "    </tr>\n",
              "    <tr>\n",
              "      <th>clamp_pressure</th>\n",
              "      <td>0</td>\n",
              "    </tr>\n",
              "    <tr>\n",
              "      <th>tool_condition</th>\n",
              "      <td>0</td>\n",
              "    </tr>\n",
              "    <tr>\n",
              "      <th>machining_finalized</th>\n",
              "      <td>0</td>\n",
              "    </tr>\n",
              "    <tr>\n",
              "      <th>passed_visual_inspection</th>\n",
              "      <td>4</td>\n",
              "    </tr>\n",
              "  </tbody>\n",
              "</table>\n",
              "</div><br><label><b>dtype:</b> int64</label>"
            ]
          },
          "metadata": {},
          "execution_count": 27
        }
      ],
      "source": [
        "# identifico eventuali valori nulli\n",
        "\n",
        "train_df.isnull().sum()"
      ]
    },
    {
      "cell_type": "code",
      "source": [
        "# seleziono le righe di train_data in cui machining_finalized è no, e prendo anche i valori della colonna passed_visual_inspection\n",
        "# dimostro quindi che quando il machining non è completato, non è disponibile la visual inspection\n",
        "\n",
        "righe_selezionate = train_df[train_df['machining_finalized'] == 'no'][['passed_visual_inspection', 'machining_finalized']]\n",
        "print(righe_selezionate)"
      ],
      "metadata": {
        "colab": {
          "base_uri": "https://localhost:8080/"
        },
        "id": "LCs87wOSnxA6",
        "outputId": "b7542c69-c79c-4569-b653-884aa7036e92"
      },
      "execution_count": 45,
      "outputs": [
        {
          "output_type": "stream",
          "name": "stdout",
          "text": [
            "   passed_visual_inspection machining_finalized\n",
            "3                       NaN                  no\n",
            "4                       NaN                  no\n",
            "6                       NaN                  no\n",
            "15                      NaN                  no\n"
          ]
        }
      ]
    },
    {
      "cell_type": "code",
      "source": [
        "# dato che il NaN in passed_visual_inspection si ha quando il machining non è completato, ciò significa che anche la visual inspection non è passata\n",
        "# sostituisco dunque i valori Nan con no\n",
        "\n",
        "train_df['passed_visual_inspection'] = train_df['passed_visual_inspection'].fillna('no')"
      ],
      "metadata": {
        "id": "eoEETPBhn1J5"
      },
      "execution_count": 46,
      "outputs": []
    },
    {
      "cell_type": "code",
      "source": [
        "# controllo che tutto si sia aggiornato bene\n",
        "\n",
        "print(train_df)"
      ],
      "metadata": {
        "colab": {
          "base_uri": "https://localhost:8080/"
        },
        "id": "Hjzi-Mqhn27Y",
        "outputId": "8d3f6833-f4e1-493d-b3a8-d3295662cdb3"
      },
      "execution_count": 47,
      "outputs": [
        {
          "output_type": "stream",
          "name": "stdout",
          "text": [
            "    No material  feedrate  clamp_pressure tool_condition machining_finalized  \\\n",
            "0    1      wax         6             4.0         unworn                 yes   \n",
            "1    2      wax        20             4.0         unworn                 yes   \n",
            "2    3      wax         6             3.0         unworn                 yes   \n",
            "3    4      wax         6             2.5         unworn                  no   \n",
            "4    5      wax        20             3.0         unworn                  no   \n",
            "5    6      wax         6             4.0           worn                 yes   \n",
            "6    7      wax        20             4.0           worn                  no   \n",
            "7    8      wax        20             4.0           worn                 yes   \n",
            "8    9      wax        15             4.0           worn                 yes   \n",
            "9   10      wax        12             4.0           worn                 yes   \n",
            "10  11      wax         3             4.0         unworn                 yes   \n",
            "11  12      wax         3             3.0         unworn                 yes   \n",
            "12  13      wax         3             4.0           worn                 yes   \n",
            "13  14      wax         3             3.0           worn                 yes   \n",
            "14  15      wax         6             3.0           worn                 yes   \n",
            "15  16      wax        20             3.0           worn                  no   \n",
            "16  17      wax         3             2.5         unworn                 yes   \n",
            "17  18      wax         3             2.5           worn                 yes   \n",
            "\n",
            "   passed_visual_inspection  \n",
            "0                       yes  \n",
            "1                       yes  \n",
            "2                       yes  \n",
            "3                        no  \n",
            "4                        no  \n",
            "5                        no  \n",
            "6                        no  \n",
            "7                        no  \n",
            "8                        no  \n",
            "9                        no  \n",
            "10                      yes  \n",
            "11                      yes  \n",
            "12                      yes  \n",
            "13                      yes  \n",
            "14                      yes  \n",
            "15                       no  \n",
            "16                      yes  \n",
            "17                      yes  \n"
          ]
        }
      ]
    },
    {
      "cell_type": "code",
      "execution_count": 31,
      "metadata": {
        "id": "16c67a80-9ac1-4500-8458-5769378f4329",
        "colab": {
          "base_uri": "https://localhost:8080/",
          "height": 335
        },
        "outputId": "3aade13a-06af-4b70-f974-9b8112e27a2f"
      },
      "outputs": [
        {
          "output_type": "execute_result",
          "data": {
            "text/plain": [
              "count    18.000000\n",
              "mean      9.722222\n",
              "std       7.282578\n",
              "min       3.000000\n",
              "25%       3.000000\n",
              "50%       6.000000\n",
              "75%      18.750000\n",
              "max      20.000000\n",
              "Name: feedrate, dtype: float64"
            ],
            "text/html": [
              "<div>\n",
              "<style scoped>\n",
              "    .dataframe tbody tr th:only-of-type {\n",
              "        vertical-align: middle;\n",
              "    }\n",
              "\n",
              "    .dataframe tbody tr th {\n",
              "        vertical-align: top;\n",
              "    }\n",
              "\n",
              "    .dataframe thead th {\n",
              "        text-align: right;\n",
              "    }\n",
              "</style>\n",
              "<table border=\"1\" class=\"dataframe\">\n",
              "  <thead>\n",
              "    <tr style=\"text-align: right;\">\n",
              "      <th></th>\n",
              "      <th>feedrate</th>\n",
              "    </tr>\n",
              "  </thead>\n",
              "  <tbody>\n",
              "    <tr>\n",
              "      <th>count</th>\n",
              "      <td>18.000000</td>\n",
              "    </tr>\n",
              "    <tr>\n",
              "      <th>mean</th>\n",
              "      <td>9.722222</td>\n",
              "    </tr>\n",
              "    <tr>\n",
              "      <th>std</th>\n",
              "      <td>7.282578</td>\n",
              "    </tr>\n",
              "    <tr>\n",
              "      <th>min</th>\n",
              "      <td>3.000000</td>\n",
              "    </tr>\n",
              "    <tr>\n",
              "      <th>25%</th>\n",
              "      <td>3.000000</td>\n",
              "    </tr>\n",
              "    <tr>\n",
              "      <th>50%</th>\n",
              "      <td>6.000000</td>\n",
              "    </tr>\n",
              "    <tr>\n",
              "      <th>75%</th>\n",
              "      <td>18.750000</td>\n",
              "    </tr>\n",
              "    <tr>\n",
              "      <th>max</th>\n",
              "      <td>20.000000</td>\n",
              "    </tr>\n",
              "  </tbody>\n",
              "</table>\n",
              "</div><br><label><b>dtype:</b> float64</label>"
            ]
          },
          "metadata": {},
          "execution_count": 31
        }
      ],
      "source": [
        "# calcolo le statistiche descrittive per feedrate\n",
        "\n",
        "train_df['feedrate'].describe()"
      ]
    },
    {
      "cell_type": "code",
      "execution_count": 32,
      "metadata": {
        "id": "4ff288b8-6180-48a7-835d-4eae776d70f0",
        "colab": {
          "base_uri": "https://localhost:8080/",
          "height": 335
        },
        "outputId": "7670ba81-0d15-4e58-c61d-e4b733d31303"
      },
      "outputs": [
        {
          "output_type": "execute_result",
          "data": {
            "text/plain": [
              "count    18.000000\n",
              "mean      3.416667\n",
              "std       0.624264\n",
              "min       2.500000\n",
              "25%       3.000000\n",
              "50%       3.500000\n",
              "75%       4.000000\n",
              "max       4.000000\n",
              "Name: clamp_pressure, dtype: float64"
            ],
            "text/html": [
              "<div>\n",
              "<style scoped>\n",
              "    .dataframe tbody tr th:only-of-type {\n",
              "        vertical-align: middle;\n",
              "    }\n",
              "\n",
              "    .dataframe tbody tr th {\n",
              "        vertical-align: top;\n",
              "    }\n",
              "\n",
              "    .dataframe thead th {\n",
              "        text-align: right;\n",
              "    }\n",
              "</style>\n",
              "<table border=\"1\" class=\"dataframe\">\n",
              "  <thead>\n",
              "    <tr style=\"text-align: right;\">\n",
              "      <th></th>\n",
              "      <th>clamp_pressure</th>\n",
              "    </tr>\n",
              "  </thead>\n",
              "  <tbody>\n",
              "    <tr>\n",
              "      <th>count</th>\n",
              "      <td>18.000000</td>\n",
              "    </tr>\n",
              "    <tr>\n",
              "      <th>mean</th>\n",
              "      <td>3.416667</td>\n",
              "    </tr>\n",
              "    <tr>\n",
              "      <th>std</th>\n",
              "      <td>0.624264</td>\n",
              "    </tr>\n",
              "    <tr>\n",
              "      <th>min</th>\n",
              "      <td>2.500000</td>\n",
              "    </tr>\n",
              "    <tr>\n",
              "      <th>25%</th>\n",
              "      <td>3.000000</td>\n",
              "    </tr>\n",
              "    <tr>\n",
              "      <th>50%</th>\n",
              "      <td>3.500000</td>\n",
              "    </tr>\n",
              "    <tr>\n",
              "      <th>75%</th>\n",
              "      <td>4.000000</td>\n",
              "    </tr>\n",
              "    <tr>\n",
              "      <th>max</th>\n",
              "      <td>4.000000</td>\n",
              "    </tr>\n",
              "  </tbody>\n",
              "</table>\n",
              "</div><br><label><b>dtype:</b> float64</label>"
            ]
          },
          "metadata": {},
          "execution_count": 32
        }
      ],
      "source": [
        "# calcolo le statistiche descrittive per clamp pressure\n",
        "\n",
        "train_df['clamp_pressure'].describe()"
      ]
    },
    {
      "cell_type": "code",
      "source": [
        "# creo una funzione che come parametro prenda il nome di una colonna e ritorni il grafico a barre di come sono distribuiti i dati di quella colonna\n",
        "\n",
        "def plot_column(column_name):\n",
        "    plt.figure(figsize=(8, 4))\n",
        "    sns.countplot(x=column_name, data=train_df, width = 0.6)\n",
        "    plt.title(f'Distribution of {column_name}')\n",
        "    plt.xlabel(column_name)\n",
        "    plt.ylabel('Count')\n",
        "    plt.xticks(rotation=45, ha='right')\n",
        "    plt.tight_layout()\n",
        "    plt.show()"
      ],
      "metadata": {
        "id": "-DVc8pWNW6N9"
      },
      "execution_count": 48,
      "outputs": []
    },
    {
      "cell_type": "code",
      "source": [
        "# uso funzione con le colonne clamp_pressure e feedrate\n",
        "plot_column('clamp_pressure')\n",
        "plot_column('feedrate')"
      ],
      "metadata": {
        "colab": {
          "base_uri": "https://localhost:8080/",
          "height": 797
        },
        "id": "YDFJ2R8mXI8V",
        "outputId": "a00df470-e162-43ec-8ecc-af3219799bfa"
      },
      "execution_count": 49,
      "outputs": [
        {
          "output_type": "display_data",
          "data": {
            "text/plain": [
              "<Figure size 800x400 with 1 Axes>"
            ],
            "image/png": "[encoded data removed]"
          },
          "metadata": {}
        },
        {
          "output_type": "display_data",
          "data": {
            "text/plain": [
              "<Figure size 800x400 with 1 Axes>"
            ],
            "image/png": "[encoded data removed]"
          },
          "metadata": {}
        }
      ]
    },
    {
      "cell_type": "code",
      "source": [
        "# uso funzione con altre colonne\n",
        "plot_column('machining_finalized')\n",
        "plot_column('tool_condition')\n",
        "plot_column('passed_visual_inspection')"
      ],
      "metadata": {
        "colab": {
          "base_uri": "https://localhost:8080/",
          "height": 1000
        },
        "id": "Qp8zfy3CXgv3",
        "outputId": "d3f09e54-d3e4-4781-f246-b2949cb5a0d9"
      },
      "execution_count": 35,
      "outputs": [
        {
          "output_type": "display_data",
          "data": {
            "text/plain": [
              "<Figure size 800x400 with 1 Axes>"
            ],
            "image/png": "[encoded data removed]"
          },
          "metadata": {}
        },
        {
          "output_type": "display_data",
          "data": {
            "text/plain": [
              "<Figure size 800x400 with 1 Axes>"
            ],
            "image/png": "[encoded data removed]"
          },
          "metadata": {}
        },
        {
          "output_type": "display_data",
          "data": {
            "text/plain": [
              "<Figure size 800x400 with 1 Axes>"
            ],
            "image/png": "[encoded data removed]"
          },
          "metadata": {}
        }
      ]
    },
    {
      "cell_type": "code",
      "source": [
        "# mappo i valori che sono stringhe in valori binari. Aggiungo al train_df le colonne di tipo binario\n",
        "# se non rendessi binari questi valori, il metodo corr darebbe errore, perché sto usando delle stringhe\n",
        "\n",
        "# indico unworn con 0 e worn con 1\n",
        "tool_condition_map = {'unworn': 0, 'worn': 1}\n",
        "train_df['tool_condition'] = train_df['tool_condition'].map(tool_condition_map)\n",
        "\n",
        "# indico no con 0 e yes con 1\n",
        "machining_finalized_map = {'no': 0, 'yes': 1}\n",
        "train_df['machining_finalized'] = train_df['machining_finalized'].map(machining_finalized_map)\n",
        "\n",
        "# indico no con 0 e yes con 1\n",
        "passed_visual_inspection_map = {'no': 0, 'yes': 1}\n",
        "train_df['passed_visual_inspection'] = train_df['passed_visual_inspection'].map(passed_visual_inspection_map)"
      ],
      "metadata": {
        "id": "pdAGjg6HZZ-4"
      },
      "execution_count": 50,
      "outputs": []
    },
    {
      "cell_type": "code",
      "execution_count": 51,
      "metadata": {
        "id": "2e104fef-4522-47cc-87a2-5f5c8981fbf0",
        "colab": {
          "base_uri": "https://localhost:8080/",
          "height": 206
        },
        "outputId": "509a62a0-82bb-4718-bba7-5cb89e4c78e0"
      },
      "outputs": [
        {
          "output_type": "execute_result",
          "data": {
            "text/plain": [
              "                          feedrate  clamp_pressure  tool_condition  \\\n",
              "feedrate                  1.000000        0.337490        0.170259   \n",
              "clamp_pressure            0.337490        1.000000        0.245718   \n",
              "tool_condition            0.170259        0.245718        1.000000   \n",
              "machining_finalized      -0.511894        0.256978        0.059761   \n",
              "passed_visual_inspection -0.651198       -0.215003       -0.350000   \n",
              "\n",
              "                          machining_finalized  passed_visual_inspection  \n",
              "feedrate                            -0.511894                 -0.651198  \n",
              "clamp_pressure                       0.256978                 -0.215003  \n",
              "tool_condition                       0.059761                 -0.350000  \n",
              "machining_finalized                  1.000000                  0.597614  \n",
              "passed_visual_inspection             0.597614                  1.000000  "
            ],
            "text/html": [
              "\n",
              "  <div id=\"df-59eab29a-a92f-4a9e-b03e-45b14e9ab25a\" class=\"colab-df-container\">\n",
              "    <div>\n",
              "<style scoped>\n",
              "    .dataframe tbody tr th:only-of-type {\n",
              "        vertical-align: middle;\n",
              "    }\n",
              "\n",
              "    .dataframe tbody tr th {\n",
              "        vertical-align: top;\n",
              "    }\n",
              "\n",
              "    .dataframe thead th {\n",
              "        text-align: right;\n",
              "    }\n",
              "</style>\n",
              "<table border=\"1\" class=\"dataframe\">\n",
              "  <thead>\n",
              "    <tr style=\"text-align: right;\">\n",
              "      <th></th>\n",
              "      <th>feedrate</th>\n",
              "      <th>clamp_pressure</th>\n",
              "      <th>tool_condition</th>\n",
              "      <th>machining_finalized</th>\n",
              "      <th>passed_visual_inspection</th>\n",
              "    </tr>\n",
              "  </thead>\n",
              "  <tbody>\n",
              "    <tr>\n",
              "      <th>feedrate</th>\n",
              "      <td>1.000000</td>\n",
              "      <td>0.337490</td>\n",
              "      <td>0.170259</td>\n",
              "      <td>-0.511894</td>\n",
              "      <td>-0.651198</td>\n",
              "    </tr>\n",
              "    <tr>\n",
              "      <th>clamp_pressure</th>\n",
              "      <td>0.337490</td>\n",
              "      <td>1.000000</td>\n",
              "      <td>0.245718</td>\n",
              "      <td>0.256978</td>\n",
              "      <td>-0.215003</td>\n",
              "    </tr>\n",
              "    <tr>\n",
              "      <th>tool_condition</th>\n",
              "      <td>0.170259</td>\n",
              "      <td>0.245718</td>\n",
              "      <td>1.000000</td>\n",
              "      <td>0.059761</td>\n",
              "      <td>-0.350000</td>\n",
              "    </tr>\n",
              "    <tr>\n",
              "      <th>machining_finalized</th>\n",
              "      <td>-0.511894</td>\n",
              "      <td>0.256978</td>\n",
              "      <td>0.059761</td>\n",
              "      <td>1.000000</td>\n",
              "      <td>0.597614</td>\n",
              "    </tr>\n",
              "    <tr>\n",
              "      <th>passed_visual_inspection</th>\n",
              "      <td>-0.651198</td>\n",
              "      <td>-0.215003</td>\n",
              "      <td>-0.350000</td>\n",
              "      <td>0.597614</td>\n",
              "      <td>1.000000</td>\n",
              "    </tr>\n",
              "  </tbody>\n",
              "</table>\n",
              "</div>\n",
              "    <div class=\"colab-df-buttons\">\n",
              "\n",
              "  <div class=\"colab-df-container\">\n",
              "    <button class=\"colab-df-convert\" onclick=\"convertToInteractive('df-59eab29a-a92f-4a9e-b03e-45b14e9ab25a')\"\n",
              "            title=\"Convert this dataframe to an interactive table.\"\n",
              "            style=\"display:none;\">\n",
              "\n",
              "  <svg xmlns=\"http://www.w3.org/2000/svg\" height=\"24px\" viewBox=\"0 -960 960 960\">\n",
              "    <path d=\"M120-120v-720h720v720H120Zm60-500h600v-160H180v160Zm220 220h160v-160H400v160Zm0 220h160v-160H400v160ZM180-400h160v-160H180v160Zm440 0h160v-160H620v160ZM180-180h160v-160H180v160Zm440 0h160v-160H620v160Z\"/>\n",
              "  </svg>\n",
              "    </button>\n",
              "\n",
              "  <style>\n",
              "    .colab-df-container {\n",
              "      display:flex;\n",
              "      gap: 12px;\n",
              "    }\n",
              "\n",
              "    .colab-df-convert {\n",
              "      background-color: #E8F0FE;\n",
              "      border: none;\n",
              "      border-radius: 50%;\n",
              "      cursor: pointer;\n",
              "      display: none;\n",
              "      fill: #1967D2;\n",
              "      height: 32px;\n",
              "      padding: 0 0 0 0;\n",
              "      width: 32px;\n",
              "    }\n",
              "\n",
              "    .colab-df-convert:hover {\n",
              "      background-color: #E2EBFA;\n",
              "      box-shadow: 0px 1px 2px rgba(60, 64, 67, 0.3), 0px 1px 3px 1px rgba(60, 64, 67, 0.15);\n",
              "      fill: #174EA6;\n",
              "    }\n",
              "\n",
              "    .colab-df-buttons div {\n",
              "      margin-bottom: 4px;\n",
              "    }\n",
              "\n",
              "    [theme=dark] .colab-df-convert {\n",
              "      background-color: #3B4455;\n",
              "      fill: #D2E3FC;\n",
              "    }\n",
              "\n",
              "    [theme=dark] .colab-df-convert:hover {\n",
              "      background-color: #434B5C;\n",
              "      box-shadow: 0px 1px 3px 1px rgba(0, 0, 0, 0.15);\n",
              "      filter: drop-shadow(0px 1px 2px rgba(0, 0, 0, 0.3));\n",
              "      fill: #FFFFFF;\n",
              "    }\n",
              "  </style>\n",
              "\n",
              "    <script>\n",
              "      const buttonEl =\n",
              "        document.querySelector('#df-59eab29a-a92f-4a9e-b03e-45b14e9ab25a button.colab-df-convert');\n",
              "      buttonEl.style.display =\n",
              "        google.colab.kernel.accessAllowed ? 'block' : 'none';\n",
              "\n",
              "      async function convertToInteractive(key) {\n",
              "        const element = document.querySelector('#df-59eab29a-a92f-4a9e-b03e-45b14e9ab25a');\n",
              "        const dataTable =\n",
              "          await google.colab.kernel.invokeFunction('convertToInteractive',\n",
              "                                                    [key], {});\n",
              "        if (!dataTable) return;\n",
              "\n",
              "        const docLinkHtml = 'Like what you see? Visit the ' +\n",
              "          '<a target=\"_blank\" href=https://colab.research.google.com/notebooks/data_table.ipynb>data table notebook</a>'\n",
              "          + ' to learn more about interactive tables.';\n",
              "        element.innerHTML = '';\n",
              "        dataTable['output_type'] = 'display_data';\n",
              "        await google.colab.output.renderOutput(dataTable, element);\n",
              "        const docLink = document.createElement('div');\n",
              "        docLink.innerHTML = docLinkHtml;\n",
              "        element.appendChild(docLink);\n",
              "      }\n",
              "    </script>\n",
              "  </div>\n",
              "\n",
              "\n",
              "<div id=\"df-d8bd1a4f-6b68-4261-ae07-937e26e8f8e4\">\n",
              "  <button class=\"colab-df-quickchart\" onclick=\"quickchart('df-d8bd1a4f-6b68-4261-ae07-937e26e8f8e4')\"\n",
              "            title=\"Suggest charts\"\n",
              "            style=\"display:none;\">\n",
              "\n",
              "<svg xmlns=\"http://www.w3.org/2000/svg\" height=\"24px\"viewBox=\"0 0 24 24\"\n",
              "     width=\"24px\">\n",
              "    <g>\n",
              "        <path d=\"M19 3H5c-1.1 0-2 .9-2 2v14c0 1.1.9 2 2 2h14c1.1 0 2-.9 2-2V5c0-1.1-.9-2-2-2zM9 17H7v-7h2v7zm4 0h-2V7h2v10zm4 0h-2v-4h2v4z\"/>\n",
              "    </g>\n",
              "</svg>\n",
              "  </button>\n",
              "\n",
              "<style>\n",
              "  .colab-df-quickchart {\n",
              "      --bg-color: #E8F0FE;\n",
              "      --fill-color: #1967D2;\n",
              "      --hover-bg-color: #E2EBFA;\n",
              "      --hover-fill-color: #174EA6;\n",
              "      --disabled-fill-color: #AAA;\n",
              "      --disabled-bg-color: #DDD;\n",
              "  }\n",
              "\n",
              "  [theme=dark] .colab-df-quickchart {\n",
              "      --bg-color: #3B4455;\n",
              "      --fill-color: #D2E3FC;\n",
              "      --hover-bg-color: #434B5C;\n",
              "      --hover-fill-color: #FFFFFF;\n",
              "      --disabled-bg-color: #3B4455;\n",
              "      --disabled-fill-color: #666;\n",
              "  }\n",
              "\n",
              "  .colab-df-quickchart {\n",
              "    background-color: var(--bg-color);\n",
              "    border: none;\n",
              "    border-radius: 50%;\n",
              "    cursor: pointer;\n",
              "    display: none;\n",
              "    fill: var(--fill-color);\n",
              "    height: 32px;\n",
              "    padding: 0;\n",
              "    width: 32px;\n",
              "  }\n",
              "\n",
              "  .colab-df-quickchart:hover {\n",
              "    background-color: var(--hover-bg-color);\n",
              "    box-shadow: 0 1px 2px rgba(60, 64, 67, 0.3), 0 1px 3px 1px rgba(60, 64, 67, 0.15);\n",
              "    fill: var(--button-hover-fill-color);\n",
              "  }\n",
              "\n",
              "  .colab-df-quickchart-complete:disabled,\n",
              "  .colab-df-quickchart-complete:disabled:hover {\n",
              "    background-color: var(--disabled-bg-color);\n",
              "    fill: var(--disabled-fill-color);\n",
              "    box-shadow: none;\n",
              "  }\n",
              "\n",
              "  .colab-df-spinner {\n",
              "    border: 2px solid var(--fill-color);\n",
              "    border-color: transparent;\n",
              "    border-bottom-color: var(--fill-color);\n",
              "    animation:\n",
              "      spin 1s steps(1) infinite;\n",
              "  }\n",
              "\n",
              "  @keyframes spin {\n",
              "    0% {\n",
              "      border-color: transparent;\n",
              "      border-bottom-color: var(--fill-color);\n",
              "      border-left-color: var(--fill-color);\n",
              "    }\n",
              "    20% {\n",
              "      border-color: transparent;\n",
              "      border-left-color: var(--fill-color);\n",
              "      border-top-color: var(--fill-color);\n",
              "    }\n",
              "    30% {\n",
              "      border-color: transparent;\n",
              "      border-left-color: var(--fill-color);\n",
              "      border-top-color: var(--fill-color);\n",
              "      border-right-color: var(--fill-color);\n",
              "    }\n",
              "    40% {\n",
              "      border-color: transparent;\n",
              "      border-right-color: var(--fill-color);\n",
              "      border-top-color: var(--fill-color);\n",
              "    }\n",
              "    60% {\n",
              "      border-color: transparent;\n",
              "      border-right-color: var(--fill-color);\n",
              "    }\n",
              "    80% {\n",
              "      border-color: transparent;\n",
              "      border-right-color: var(--fill-color);\n",
              "      border-bottom-color: var(--fill-color);\n",
              "    }\n",
              "    90% {\n",
              "      border-color: transparent;\n",
              "      border-bottom-color: var(--fill-color);\n",
              "    }\n",
              "  }\n",
              "</style>\n",
              "\n",
              "  <script>\n",
              "    async function quickchart(key) {\n",
              "      const quickchartButtonEl =\n",
              "        document.querySelector('#' + key + ' button');\n",
              "      quickchartButtonEl.disabled = true;  // To prevent multiple clicks.\n",
              "      quickchartButtonEl.classList.add('colab-df-spinner');\n",
              "      try {\n",
              "        const charts = await google.colab.kernel.invokeFunction(\n",
              "            'suggestCharts', [key], {});\n",
              "      } catch (error) {\n",
              "        console.error('Error during call to suggestCharts:', error);\n",
              "      }\n",
              "      quickchartButtonEl.classList.remove('colab-df-spinner');\n",
              "      quickchartButtonEl.classList.add('colab-df-quickchart-complete');\n",
              "    }\n",
              "    (() => {\n",
              "      let quickchartButtonEl =\n",
              "        document.querySelector('#df-d8bd1a4f-6b68-4261-ae07-937e26e8f8e4 button');\n",
              "      quickchartButtonEl.style.display =\n",
              "        google.colab.kernel.accessAllowed ? 'block' : 'none';\n",
              "    })();\n",
              "  </script>\n",
              "</div>\n",
              "\n",
              "  <div id=\"id_66c56be6-9db9-433f-a357-483718abb4c4\">\n",
              "    <style>\n",
              "      .colab-df-generate {\n",
              "        background-color: #E8F0FE;\n",
              "        border: none;\n",
              "        border-radius: 50%;\n",
              "        cursor: pointer;\n",
              "        display: none;\n",
              "        fill: #1967D2;\n",
              "        height: 32px;\n",
              "        padding: 0 0 0 0;\n",
              "        width: 32px;\n",
              "      }\n",
              "\n",
              "      .colab-df-generate:hover {\n",
              "        background-color: #E2EBFA;\n",
              "        box-shadow: 0px 1px 2px rgba(60, 64, 67, 0.3), 0px 1px 3px 1px rgba(60, 64, 67, 0.15);\n",
              "        fill: #174EA6;\n",
              "      }\n",
              "\n",
              "      [theme=dark] .colab-df-generate {\n",
              "        background-color: #3B4455;\n",
              "        fill: #D2E3FC;\n",
              "      }\n",
              "\n",
              "      [theme=dark] .colab-df-generate:hover {\n",
              "        background-color: #434B5C;\n",
              "        box-shadow: 0px 1px 3px 1px rgba(0, 0, 0, 0.15);\n",
              "        filter: drop-shadow(0px 1px 2px rgba(0, 0, 0, 0.3));\n",
              "        fill: #FFFFFF;\n",
              "      }\n",
              "    </style>\n",
              "    <button class=\"colab-df-generate\" onclick=\"generateWithVariable('cormat')\"\n",
              "            title=\"Generate code using this dataframe.\"\n",
              "            style=\"display:none;\">\n",
              "\n",
              "  <svg xmlns=\"http://www.w3.org/2000/svg\" height=\"24px\"viewBox=\"0 0 24 24\"\n",
              "       width=\"24px\">\n",
              "    <path d=\"M7,19H8.4L18.45,9,17,7.55,7,17.6ZM5,21V16.75L18.45,3.32a2,2,0,0,1,2.83,0l1.4,1.43a1.91,1.91,0,0,1,.58,1.4,1.91,1.91,0,0,1-.58,1.4L9.25,21ZM18.45,9,17,7.55Zm-12,3A5.31,5.31,0,0,0,4.9,8.1,5.31,5.31,0,0,0,1,6.5,5.31,5.31,0,0,0,4.9,4.9,5.31,5.31,0,0,0,6.5,1,5.31,5.31,0,0,0,8.1,4.9,5.31,5.31,0,0,0,12,6.5,5.46,5.46,0,0,0,6.5,12Z\"/>\n",
              "  </svg>\n",
              "    </button>\n",
              "    <script>\n",
              "      (() => {\n",
              "      const buttonEl =\n",
              "        document.querySelector('#id_66c56be6-9db9-433f-a357-483718abb4c4 button.colab-df-generate');\n",
              "      buttonEl.style.display =\n",
              "        google.colab.kernel.accessAllowed ? 'block' : 'none';\n",
              "\n",
              "      buttonEl.onclick = () => {\n",
              "        google.colab.notebook.generateWithVariable('cormat');\n",
              "      }\n",
              "      })();\n",
              "    </script>\n",
              "  </div>\n",
              "\n",
              "    </div>\n",
              "  </div>\n"
            ],
            "application/vnd.google.colaboratory.intrinsic+json": {
              "type": "dataframe",
              "variable_name": "cormat",
              "summary": "{\n  \"name\": \"cormat\",\n  \"rows\": 5,\n  \"fields\": [\n    {\n      \"column\": \"feedrate\",\n      \"properties\": {\n        \"dtype\": \"number\",\n        \"std\": 0.671793110260316,\n        \"min\": -0.6511979604228517,\n        \"max\": 1.0,\n        \"num_unique_values\": 5,\n        \"samples\": [\n          0.3374896997502312,\n          -0.6511979604228517,\n          0.17025930501621736\n        ],\n        \"semantic_type\": \"\",\n        \"description\": \"\"\n      }\n    },\n    {\n      \"column\": \"clamp_pressure\",\n      \"properties\": {\n        \"dtype\": \"number\",\n        \"std\": 0.43540129456306653,\n        \"min\": -0.21500329089188294,\n        \"max\": 1.0,\n        \"num_unique_values\": 5,\n        \"samples\": [\n          1.0,\n          -0.21500329089188294,\n          0.24571804673358047\n        ],\n        \"semantic_type\": \"\",\n        \"description\": \"\"\n      }\n    },\n    {\n      \"column\": \"tool_condition\",\n      \"properties\": {\n        \"dtype\": \"number\",\n        \"std\": 0.4904027571418554,\n        \"min\": -0.34999999999999987,\n        \"max\": 1.0,\n        \"num_unique_values\": 5,\n        \"samples\": [\n          0.24571804673358047,\n          -0.34999999999999987,\n          1.0\n        ],\n        \"semantic_type\": \"\",\n        \"description\": \"\"\n      }\n    },\n    {\n      \"column\": \"machining_finalized\",\n      \"properties\": {\n        \"dtype\": \"number\",\n        \"std\": 0.5690800850560979,\n        \"min\": -0.5118938694435959,\n        \"max\": 1.0,\n        \"num_unique_values\": 5,\n        \"samples\": [\n          0.2569780843750232,\n          0.5976143046671969,\n          0.05976143046671971\n        ],\n        \"semantic_type\": \"\",\n        \"description\": \"\"\n      }\n    },\n    {\n      \"column\": \"passed_visual_inspection\",\n      \"properties\": {\n        \"dtype\": \"number\",\n        \"std\": 0.6929705752127122,\n        \"min\": -0.6511979604228517,\n        \"max\": 1.0,\n        \"num_unique_values\": 5,\n        \"samples\": [\n          -0.21500329089188294,\n          1.0,\n          -0.34999999999999987\n        ],\n        \"semantic_type\": \"\",\n        \"description\": \"\"\n      }\n    }\n  ]\n}"
            }
          },
          "metadata": {},
          "execution_count": 51
        }
      ],
      "source": [
        "# calcolo correlazione tra colonne togliendo il materiale e il numero dell'esperimento\n",
        "\n",
        "train_df = train_df.drop(['material', 'No'], axis=1)\n",
        "\n",
        "cormat = train_df.corr()\n",
        "cormat"
      ]
    },
    {
      "cell_type": "code",
      "source": [
        "sns.heatmap(cormat)"
      ],
      "metadata": {
        "id": "c18JHD10bIjC",
        "outputId": "6b95bfec-673e-4e36-b466-8509808fea56",
        "colab": {
          "base_uri": "https://localhost:8080/",
          "height": 613
        }
      },
      "execution_count": 52,
      "outputs": [
        {
          "output_type": "execute_result",
          "data": {
            "text/plain": [
              "<Axes: >"
            ]
          },
          "metadata": {},
          "execution_count": 52
        },
        {
          "output_type": "display_data",
          "data": {
            "text/plain": [
              "<Figure size 640x480 with 2 Axes>"
            ],
            "image/png": "[encoded data removed]"
          },
          "metadata": {}
        }
      ]
    }
  ]
}